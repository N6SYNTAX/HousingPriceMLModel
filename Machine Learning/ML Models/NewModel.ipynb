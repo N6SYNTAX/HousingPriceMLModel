{
 "cells": [
  {
   "cell_type": "code",
   "execution_count": 51,
   "id": "42069303-bb3e-4f6b-a89c-ec31eadb438a",
   "metadata": {},
   "outputs": [
    {
     "name": "stdout",
     "output_type": "stream",
     "text": [
      "The DataFrame has 9244 rows.\n",
      "Number of duplicate rows is 51\n",
      "Predicted price: 463041.59994929854\n"
     ]
    }
   ],
   "source": [
    "import pandas as pd\n",
    "from sklearn.cluster import KMeans\n",
    "from sklearn.preprocessing import StandardScaler\n",
    "from sklearn.linear_model import LinearRegression\n",
    "\n",
    "# Sample data setup\n",
    "file_path = 'Data/Melbourne_housing_FULL.csv'\n",
    "df = pd.read_csv(file_path)\n",
    "\n",
    "# Remove rows where critical columns have missing values\n",
    "df = df.dropna(subset=['Price', 'Landsize', 'BuildingArea', 'Bedroom2', 'Bathroom', 'Car'])\n",
    "\n",
    "# Drop unnecessary columns to simplify the dataset\n",
    "df = df.drop(columns=['BuildingArea','Bathroom', 'Car','Rooms','Postcode', 'YearBuilt','Type','Propertycount', 'Longtitude', 'Lattitude',  'CouncilArea', 'Regionname', 'Suburb', 'Address', 'Method', 'SellerG', 'Date'])\n",
    "row_count = len(df)\n",
    "\n",
    "# Drop rows where Price is less than 100k or more than 10M\n",
    "df = df[(df['Price'] >= 100000) & (df['Price'] <= 10000000)]\n",
    "\n",
    "row_count2 = len(df)\n",
    "print(f'The DataFrame has {row_count2} rows.')\n",
    "df\n",
    "\n",
    "# Check for duplicates\n",
    "duplicates = df.duplicated()\n",
    "print(f\"Number of duplicate rows is {duplicates.sum()}\")\n",
    "\n",
    "# Remove duplicate rows\n",
    "df = df.drop_duplicates()\n",
    "\n",
    "# Standardize the features\n",
    "scaler = StandardScaler()\n",
    "df[['Bedroom2', 'Landsize']] = scaler.fit_transform(df[['Bedroom2', 'Landsize']])\n",
    "\n",
    "# Fit K-means clustering\n",
    "kmeans = KMeans(n_clusters=3, random_state=0)\n",
    "df['cluster'] = kmeans.fit_predict(df[['Bedroom2', 'Landsize']])\n",
    "\n",
    "# Train separate regression models for each cluster\n",
    "cluster_models = {}\n",
    "for cluster in df['cluster'].unique():\n",
    "    cluster_data = df[df['cluster'] == cluster]\n",
    "    model = LinearRegression()\n",
    "    model.fit(cluster_data[['Bedroom2', 'Landsize']], cluster_data['Price'])\n",
    "    cluster_models[cluster] = model\n",
    "\n",
    "def predict_price(bedrooms, landsize):\n",
    "    # Create a DataFrame for input to retain column names and ensure compatibility\n",
    "    new_data = pd.DataFrame([[bedrooms, landsize]], columns=['Bedroom2', 'Landsize'])\n",
    "    # Scale the input features\n",
    "    scaled_features = scaler.transform(new_data)\n",
    "    scaled_features_df = pd.DataFrame(scaled_features, columns=['Bedroom2', 'Landsize'])\n",
    "    \n",
    "    # Predict the cluster using the scaled features with column names\n",
    "    cluster = kmeans.predict(scaled_features_df)[0]\n",
    "    \n",
    "    # Use the regression model specific to the predicted cluster\n",
    "    model = cluster_models[cluster]\n",
    "    predicted_price = model.predict(scaled_features_df)[0]  # Pass scaled DataFrame to match feature names\n",
    "    return predicted_price\n",
    "\n",
    "# Example prediction\n",
    "print(\"Predicted price:\", predict_price(1, 150))\n",
    "\n",
    "\n",
    "\n"
   ]
  },
  {
   "cell_type": "code",
   "execution_count": 25,
   "id": "7e904867-48cc-4f4c-bf1b-1ed2d3b54848",
   "metadata": {},
   "outputs": [
    {
     "name": "stdin",
     "output_type": "stream",
     "text": [
      "Enter Num Of Bedrooms:  2\n",
      "Enter Num Of Bedrooms:  10000\n"
     ]
    },
    {
     "data": {
      "text/plain": [
       "1374520918.680564"
      ]
     },
     "execution_count": 25,
     "metadata": {},
     "output_type": "execute_result"
    }
   ],
   "source": [
    "bed = int(input(\"Enter Num Of Bedrooms: \"))\n",
    "land = int(input(\"Enter Num Of Bedrooms: \"))\n",
    "\n",
    "predict_price(bed,land)\n"
   ]
  },
  {
   "cell_type": "code",
   "execution_count": null,
   "id": "2c113154-1162-48e7-81ca-73be7ecf7e8c",
   "metadata": {},
   "outputs": [],
   "source": []
  }
 ],
 "metadata": {
  "kernelspec": {
   "display_name": "Python 3 (ipykernel)",
   "language": "python",
   "name": "python3"
  },
  "language_info": {
   "codemirror_mode": {
    "name": "ipython",
    "version": 3
   },
   "file_extension": ".py",
   "mimetype": "text/x-python",
   "name": "python",
   "nbconvert_exporter": "python",
   "pygments_lexer": "ipython3",
   "version": "3.12.4"
  }
 },
 "nbformat": 4,
 "nbformat_minor": 5
}
